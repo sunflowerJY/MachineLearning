{
 "cells": [
  {
   "cell_type": "markdown",
   "metadata": {},
   "source": [
    "# 观察数据"
   ]
  },
  {
   "cell_type": "markdown",
   "metadata": {},
   "source": [
    "## 加载数据"
   ]
  },
  {
   "cell_type": "code",
   "execution_count": 1,
   "metadata": {
    "ExecuteTime": {
     "end_time": "2019-02-25T05:54:47.356679Z",
     "start_time": "2019-02-25T05:54:47.297646Z"
    }
   },
   "outputs": [
    {
     "name": "stdout",
     "output_type": "stream",
     "text": [
      " Volume in drive C is OS\n",
      " Volume Serial Number is 2479-7752\n",
      "\n",
      " Directory of C:\\Users\\jiny3\\1.intern\\Smart Diagnosis based on KB library\\Diagnosis for bug system\\view_data\n",
      "\n",
      "2019/02/25  13:54    <DIR>          .\n",
      "2019/02/25  13:54    <DIR>          ..\n",
      "2019/02/25  13:54    <DIR>          .ipynb_checkpoints\n",
      "2019/02/25  13:54                72 Untitled.ipynb\n",
      "               1 File(s)             72 bytes\n",
      "               3 Dir(s)  454,810,030,080 bytes free\n"
     ]
    }
   ],
   "source": [
    "!dir"
   ]
  },
  {
   "cell_type": "code",
   "execution_count": 2,
   "metadata": {
    "ExecuteTime": {
     "end_time": "2019-02-25T05:55:13.055271Z",
     "start_time": "2019-02-25T05:55:13.024305Z"
    }
   },
   "outputs": [
    {
     "name": "stdout",
     "output_type": "stream",
     "text": [
      "C:\\Users\\jiny3\\1.intern\\Smart Diagnosis based on KB library\\Diagnosis for bug system\\data\n"
     ]
    }
   ],
   "source": [
    "cd \"C:\\Users\\jiny3\\1.intern\\Smart Diagnosis based on KB library\\Diagnosis for bug system\\data\""
   ]
  },
  {
   "cell_type": "code",
   "execution_count": 3,
   "metadata": {
    "ExecuteTime": {
     "end_time": "2019-02-25T05:56:41.654854Z",
     "start_time": "2019-02-25T05:56:35.027217Z"
    }
   },
   "outputs": [
    {
     "data": {
      "text/html": [
       "<div>\n",
       "<style>\n",
       "    .dataframe thead tr:only-child th {\n",
       "        text-align: right;\n",
       "    }\n",
       "\n",
       "    .dataframe thead th {\n",
       "        text-align: left;\n",
       "    }\n",
       "\n",
       "    .dataframe tbody tr th {\n",
       "        vertical-align: top;\n",
       "    }\n",
       "</style>\n",
       "<table border=\"1\" class=\"dataframe\">\n",
       "  <thead>\n",
       "    <tr style=\"text-align: right;\">\n",
       "      <th></th>\n",
       "      <th>bug_id</th>\n",
       "      <th>bug_severity</th>\n",
       "      <th>bug_status</th>\n",
       "      <th>creation_ts</th>\n",
       "      <th>delta_ts</th>\n",
       "      <th>lastdiffed</th>\n",
       "      <th>resolution</th>\n",
       "      <th>status_whiteboard</th>\n",
       "      <th>cf_next_action</th>\n",
       "      <th>cf_bug_type</th>\n",
       "      <th>cf_build_found_in</th>\n",
       "      <th>short_desc</th>\n",
       "      <th>comments</th>\n",
       "      <th>reporter</th>\n",
       "      <th>assigned_to</th>\n",
       "    </tr>\n",
       "  </thead>\n",
       "  <tbody>\n",
       "    <tr>\n",
       "      <th>0</th>\n",
       "      <td>247999</td>\n",
       "      <td>critical</td>\n",
       "      <td>CLOSED</td>\n",
       "      <td>2019-02-14 11:58:00</td>\n",
       "      <td>2019-02-15 09:51:37</td>\n",
       "      <td>2019-02-15 09:51:37</td>\n",
       "      <td>FIXED</td>\n",
       "      <td>NaN</td>\n",
       "      <td>Other or N/A</td>\n",
       "      <td>Work Item</td>\n",
       "      <td>NaN</td>\n",
       "      <td>Request to check # of customer running event_c...</td>\n",
       "      <td>We are seeing increased impact due to bam.rena...</td>\n",
       "      <td>David \"RUP it\" Coughlan</td>\n",
       "      <td>Ganesh Prabhu</td>\n",
       "    </tr>\n",
       "    <tr>\n",
       "      <th>1</th>\n",
       "      <td>246982</td>\n",
       "      <td>blocker</td>\n",
       "      <td>NEW</td>\n",
       "      <td>2019-01-29 16:23:01</td>\n",
       "      <td>2019-02-02 00:07:57</td>\n",
       "      <td>2019-02-02 00:07:57</td>\n",
       "      <td>NaN</td>\n",
       "      <td>NaN</td>\n",
       "      <td>GS_Coach</td>\n",
       "      <td>Defect</td>\n",
       "      <td>B_8_0_0_0</td>\n",
       "      <td>upgrade - how often is --skip-optional flag used</td>\n",
       "      <td>Upgrade has an option off CLI and WebUI to ski...</td>\n",
       "      <td>Katherine Baker</td>\n",
       "      <td>LIST-eng-dataiq</td>\n",
       "    </tr>\n",
       "    <tr>\n",
       "      <th>2</th>\n",
       "      <td>245852</td>\n",
       "      <td>normal</td>\n",
       "      <td>NEW</td>\n",
       "      <td>2019-01-10 15:18:39</td>\n",
       "      <td>2019-01-21 23:55:49</td>\n",
       "      <td>2019-01-21 23:55:49</td>\n",
       "      <td>NaN</td>\n",
       "      <td>NaN</td>\n",
       "      <td>GS_Coach</td>\n",
       "      <td>Defect</td>\n",
       "      <td>b_8_0_0</td>\n",
       "      <td>Dump of clusters by feature?</td>\n",
       "      <td>For purposes of joining with a DUDL data set, ...</td>\n",
       "      <td>Douglas \"I have an Opinion\" Kilpatrick</td>\n",
       "      <td>LIST-eng-dataiq</td>\n",
       "    </tr>\n",
       "    <tr>\n",
       "      <th>3</th>\n",
       "      <td>244978</td>\n",
       "      <td>normal</td>\n",
       "      <td>NEW</td>\n",
       "      <td>2018-12-17 15:30:39</td>\n",
       "      <td>2018-12-17 15:30:39</td>\n",
       "      <td>2018-12-17 15:30:39</td>\n",
       "      <td>NaN</td>\n",
       "      <td>NaN</td>\n",
       "      <td>GS_Coach</td>\n",
       "      <td>Defect</td>\n",
       "      <td>B_8_1_1_001</td>\n",
       "      <td>Query for customers with inotify enabled or cy...</td>\n",
       "      <td>Are there any customers on 8.1.1.0 or above th...</td>\n",
       "      <td>Robert \"REKT\" Ketcherside</td>\n",
       "      <td>LIST-eng-dataiq</td>\n",
       "    </tr>\n",
       "    <tr>\n",
       "      <th>4</th>\n",
       "      <td>243950</td>\n",
       "      <td>normal</td>\n",
       "      <td>RESOLVED</td>\n",
       "      <td>2018-11-30 16:20:59</td>\n",
       "      <td>2018-12-07 09:54:07</td>\n",
       "      <td>2018-12-07 09:54:07</td>\n",
       "      <td>FIXED</td>\n",
       "      <td>NaN</td>\n",
       "      <td>GS_Coach</td>\n",
       "      <td>Defect</td>\n",
       "      <td>NaN</td>\n",
       "      <td>Refinements to the RUP/NFP adoption report</td>\n",
       "      <td>From: Arms, Laina \\n\\nSent: Friday, November 1...</td>\n",
       "      <td>Ganesh Prabhu</td>\n",
       "      <td>Ganesh Prabhu</td>\n",
       "    </tr>\n",
       "  </tbody>\n",
       "</table>\n",
       "</div>"
      ],
      "text/plain": [
       "   bug_id bug_severity bug_status          creation_ts             delta_ts  \\\n",
       "0  247999     critical     CLOSED  2019-02-14 11:58:00  2019-02-15 09:51:37   \n",
       "1  246982      blocker        NEW  2019-01-29 16:23:01  2019-02-02 00:07:57   \n",
       "2  245852       normal        NEW  2019-01-10 15:18:39  2019-01-21 23:55:49   \n",
       "3  244978       normal        NEW  2018-12-17 15:30:39  2018-12-17 15:30:39   \n",
       "4  243950       normal   RESOLVED  2018-11-30 16:20:59  2018-12-07 09:54:07   \n",
       "\n",
       "            lastdiffed resolution status_whiteboard cf_next_action  \\\n",
       "0  2019-02-15 09:51:37      FIXED               NaN   Other or N/A   \n",
       "1  2019-02-02 00:07:57        NaN               NaN       GS_Coach   \n",
       "2  2019-01-21 23:55:49        NaN               NaN       GS_Coach   \n",
       "3  2018-12-17 15:30:39        NaN               NaN       GS_Coach   \n",
       "4  2018-12-07 09:54:07      FIXED               NaN       GS_Coach   \n",
       "\n",
       "  cf_bug_type cf_build_found_in  \\\n",
       "0   Work Item               NaN   \n",
       "1      Defect         B_8_0_0_0   \n",
       "2      Defect           b_8_0_0   \n",
       "3      Defect       B_8_1_1_001   \n",
       "4      Defect               NaN   \n",
       "\n",
       "                                          short_desc  \\\n",
       "0  Request to check # of customer running event_c...   \n",
       "1   upgrade - how often is --skip-optional flag used   \n",
       "2                       Dump of clusters by feature?   \n",
       "3  Query for customers with inotify enabled or cy...   \n",
       "4         Refinements to the RUP/NFP adoption report   \n",
       "\n",
       "                                            comments  \\\n",
       "0  We are seeing increased impact due to bam.rena...   \n",
       "1  Upgrade has an option off CLI and WebUI to ski...   \n",
       "2  For purposes of joining with a DUDL data set, ...   \n",
       "3  Are there any customers on 8.1.1.0 or above th...   \n",
       "4  From: Arms, Laina \\n\\nSent: Friday, November 1...   \n",
       "\n",
       "                                 reporter      assigned_to  \n",
       "0                 David \"RUP it\" Coughlan    Ganesh Prabhu  \n",
       "1                         Katherine Baker  LIST-eng-dataiq  \n",
       "2  Douglas \"I have an Opinion\" Kilpatrick  LIST-eng-dataiq  \n",
       "3               Robert \"REKT\" Ketcherside  LIST-eng-dataiq  \n",
       "4                           Ganesh Prabhu    Ganesh Prabhu  "
      ]
     },
     "execution_count": 3,
     "metadata": {},
     "output_type": "execute_result"
    }
   ],
   "source": [
    "import pandas as pd\n",
    "\n",
    "data = pd.read_csv(\"sqllab_untitled_query_20190219T021118.csv\")\n",
    "data.head()"
   ]
  },
  {
   "cell_type": "code",
   "execution_count": 4,
   "metadata": {
    "ExecuteTime": {
     "end_time": "2019-02-25T05:57:00.586306Z",
     "start_time": "2019-02-25T05:57:00.570955Z"
    }
   },
   "outputs": [
    {
     "name": "stdout",
     "output_type": "stream",
     "text": [
      "<class 'pandas.core.frame.DataFrame'>\n",
      "RangeIndex: 516 entries, 0 to 515\n",
      "Data columns (total 15 columns):\n",
      "bug_id               516 non-null int64\n",
      "bug_severity         263 non-null object\n",
      "bug_status           516 non-null object\n",
      "creation_ts          516 non-null object\n",
      "delta_ts             516 non-null object\n",
      "lastdiffed           516 non-null object\n",
      "resolution           481 non-null object\n",
      "status_whiteboard    118 non-null object\n",
      "cf_next_action       516 non-null object\n",
      "cf_bug_type          516 non-null object\n",
      "cf_build_found_in    150 non-null object\n",
      "short_desc           516 non-null object\n",
      "comments             516 non-null object\n",
      "reporter             516 non-null object\n",
      "assigned_to          516 non-null object\n",
      "dtypes: int64(1), object(14)\n",
      "memory usage: 60.5+ KB\n"
     ]
    }
   ],
   "source": [
    "data.info()"
   ]
  },
  {
   "cell_type": "markdown",
   "metadata": {},
   "source": [
    "## 缺失值"
   ]
  },
  {
   "cell_type": "markdown",
   "metadata": {},
   "source": [
    "缺失严重的字段(缺失率)：bug_severity(49%),status_whiteboard(77.1%),cf_build_found_in(70.9%)"
   ]
  },
  {
   "cell_type": "code",
   "execution_count": 5,
   "metadata": {
    "ExecuteTime": {
     "end_time": "2019-02-25T06:17:21.959763Z",
     "start_time": "2019-02-25T06:17:21.928524Z"
    }
   },
   "outputs": [
    {
     "data": {
      "text/plain": [
       "normal         107\n",
       "major           80\n",
       "critical        63\n",
       "blocker          7\n",
       "trivial          3\n",
       "enhancement      3\n",
       "Name: bug_severity, dtype: int64"
      ]
     },
     "execution_count": 5,
     "metadata": {},
     "output_type": "execute_result"
    }
   ],
   "source": [
    "data[\"bug_severity\"].value_counts()"
   ]
  },
  {
   "cell_type": "code",
   "execution_count": 7,
   "metadata": {
    "ExecuteTime": {
     "end_time": "2019-02-25T06:23:00.666623Z",
     "start_time": "2019-02-25T06:23:00.635597Z"
    }
   },
   "outputs": [
    {
     "data": {
      "text/plain": [
       "Done                                                                                                                                                                                                                                 4\n",
       "In Process                                                                                                                                                                                                                           4\n",
       "Investigating                                                                                                                                                                                                                        3\n",
       "Waiting on info from submitter.                                                                                                                                                                                                      2\n",
       "Finished.                                                                                                                                                                                                                            2\n",
       "Prototype report code in https://github.west.isilon.com/PRE-Tools/Bugs/tree/master/175710                                                                                                                                            2\n",
       "Waiting on Alex.                                                                                                                                                                                                                     2\n",
       "Answered                                                                                                                                                                                                                             2\n",
       "In process                                                                                                                                                                                                                           2\n",
       "Waiting for info from submitter.                                                                                                                                                                                                     2\n",
       "Adhoc notebooks are located here - https://github.west.isilon.com/PRE-Tools/adhoc_requests/tree/master/bugs/196799                                                                                                                   1\n",
       "Following up with requester on how well the report meets their needs.                                                                                                                                                                1\n",
       "Research                                                                                                                                                                                                                             1\n",
       "On hold until new panic tool                                                                                                                                                                                                         1\n",
       "CAL Candidate                                                                                                                                                                                                                        1\n",
       "PR created: https://github.west.isilon.com/PRE-Tools/dispatcher/pull/293                                                                                                                                                             1\n",
       "gauging interest                                                                                                                                                                                                                     1\n",
       "need to schedule                                                                                                                                                                                                                     1\n",
       "Code deployed - waiting to check that first scheduled report works as intended.                                                                                                                                                      1\n",
       "\\r\\n                                                                                                                                                                                                                                 1\n",
       "Tags: TCE                                                                                                                                                                                                                            1\n",
       "pull request merged                                                                                                                                                                                                                  1\n",
       "I've got a search running now across all nodes on the log store.                                                                                                                                                                     1\n",
       "Working on panic detection                                                                                                                                                                                                           1\n",
       "Pull Request submitted                                                                                                                                                                                                               1\n",
       "report built, need to run with an updated DB.                                                                                                                                                                                        1\n",
       "Candidate to close for lack of interest - Check with Choun and Chris M                                                                                                                                                               1\n",
       "In Progress (working on SMB numbers)                                                                                                                                                                                                 1\n",
       "Iterating with Nate to figure out what's really needed and useful.                                                                                                                                                                   1\n",
       "PR: https://github.west.isilon.com/PRE-Tools/dispatcher/pull/296\\r\\n                                                                                                                                                                 1\n",
       "                                                                                                                                                                                                                                    ..\n",
       "Data delivered. Trying to schedule report.                                                                                                                                                                                           1\n",
       "Discussing specific criteria with Pat Kane                                                                                                                                                                                           1\n",
       "In Progress                                                                                                                                                                                                                          1\n",
       "Initial report ready                                                                                                                                                                                                                 1\n",
       "Partially answered.\\r\\nMore work to address the rest of the questions.\\r\\nEmail sent on 11/2/2016                                                                                                                                    1\n",
       "Can we schedule this?                                                                                                                                                                                                                1\n",
       "Durham lab is shutdown for a week. DataIQ and\\r\\nlogstore are there.                                                                                                                                                                 1\n",
       "Discussed feedback with requester; may need to rethink report.                                                                                                                                                                       1\n",
       "Finished\\r\\n                                                                                                                                                                                                                         1\n",
       "Answered when replied to Roah.                                                                                                                                                                                                       1\n",
       "waiting for scope clarification from Chris Mount                                                                                                                                                                                     1\n",
       "]                                                                                                                                                                                                                                    1\n",
       "Query answered.                                                                                                                                                                                                                      1\n",
       "Partial result delivered....\\r\\nAdditional details will require much more work.\\r\\nHow much of the need has already been met?\\r\\n\\r\\n(Brooks March 6, 2018: looks like report information has been given, is this bug close-able)    1\n",
       "gauging interest && Waiting on Alex for triage and/or more info.                                                                                                                                                                     1\n",
       "Done.\\r\\n                                                                                                                                                                                                                            1\n",
       "Sent refined results                                                                                                                                                                                                                 1\n",
       "report attached                                                                                                                                                                                                                      1\n",
       "Need to get drive replacements from database then get feedback                                                                                                                                                                       1\n",
       "Waiting on Bug 164580                                                                                                                                                                                                                1\n",
       "Waiting on Alex for status.                                                                                                                                                                                                          1\n",
       "CSVs done for durstore and seastore. GNA moving to new bug.                                                                                                                                                                          1\n",
       "Waiting on submitter.                                                                                                                                                                                                                1\n",
       "Need to schedule....                                                                                                                                                                                                                 1\n",
       "Confirming results                                                                                                                                                                                                                   1\n",
       "Checking with Katherine to see if the simple answer is adequate                                                                                                                                                                      1\n",
       "Status and plans are being tracked at https://hardware.corp.emc.com/pages/viewpage.action?pageId=98112319                                                                                                                            1\n",
       "initial report provided; waiting for feedback                                                                                                                                                                                        1\n",
       "Resolved                                                                                                                                                                                                                             1\n",
       "Durham shutdown.                                                                                                                                                                                                                     1\n",
       "Name: status_whiteboard, Length: 103, dtype: int64"
      ]
     },
     "execution_count": 7,
     "metadata": {},
     "output_type": "execute_result"
    }
   ],
   "source": [
    "data[\"status_whiteboard\"].value_counts()"
   ]
  },
  {
   "cell_type": "code",
   "execution_count": 8,
   "metadata": {
    "ExecuteTime": {
     "end_time": "2019-02-25T06:28:40.634673Z",
     "start_time": "2019-02-25T06:28:40.619048Z"
    }
   },
   "outputs": [
    {
     "data": {
      "text/plain": [
       "1                           13\n",
       "All                          7\n",
       "any                          5\n",
       "Any                          4\n",
       "7.2.1.2                      3\n",
       "ALL                          3\n",
       "na                           3\n",
       "n/a                          3\n",
       "B_0                          2\n",
       "7.x.x.x                      2\n",
       "B_7_0_0_0                    2\n",
       "B_MR_8_0_0_4_053             2\n",
       "B_8                          2\n",
       "B_7_1_1                      2\n",
       "8.0                          2\n",
       "B_ALL                        2\n",
       "8.0.0                        2\n",
       "B_MR                         2\n",
       "0                            2\n",
       "B_8_0_0                      2\n",
       "8.0.0.0                      2\n",
       "7.2.1.0                      2\n",
       "B_8_0_0_0                    2\n",
       "B_MR_8_1_0_0                 2\n",
       "1.0                          1\n",
       "B_7_2_0_10                   1\n",
       "7.1.1.0-8.1.1.1              1\n",
       "B_PIPE_DEV_636               1\n",
       "b.8.0.0.0                    1\n",
       "4.5.0.0                      1\n",
       "                            ..\n",
       "NFP_10_0_1_OR_NFP_10_0_2     1\n",
       "B_BR_PIPE_DEV_1123           1\n",
       "B_7_1_1_84                   1\n",
       "7.1.1.2                      1\n",
       "b.8.0.0.037                  1\n",
       "OMG_WHY                      1\n",
       "R8.0.0                       1\n",
       "B_NIIJIMA_DEV_001R           1\n",
       "B_0_0_0_0                    1\n",
       "B_8_1_1_199                  1\n",
       "B_ONEFS                      1\n",
       "UNK                          1\n",
       "B_7_1_0                      1\n",
       "BR_0                         1\n",
       "B_7_1_0_001                  1\n",
       "8.0.0.x                      1\n",
       "B_8_0_0_X                    1\n",
       "8.0.0.1                      1\n",
       "7.x and 8.x                  1\n",
       "7.2.0.3                      1\n",
       "B_FTR_INFINITY_1344          1\n",
       "8.1.0.1                      1\n",
       "B_7_2_0_061                  1\n",
       "br_mr_7_2_1_4                1\n",
       "not-a-bug                    1\n",
       "8.0.0.4                      1\n",
       "7.1, 7.2                     1\n",
       "all                          1\n",
       "7_1_0_0                      1\n",
       "BR_HEAD                      1\n",
       "Name: cf_build_found_in, Length: 101, dtype: int64"
      ]
     },
     "execution_count": 8,
     "metadata": {},
     "output_type": "execute_result"
    }
   ],
   "source": [
    "data[\"cf_build_found_in\"].value_counts()"
   ]
  },
  {
   "cell_type": "markdown",
   "metadata": {},
   "source": [
    "少部分缺失字段（缺失率）：resolution(6.8%)"
   ]
  },
  {
   "cell_type": "code",
   "execution_count": 9,
   "metadata": {
    "ExecuteTime": {
     "end_time": "2019-02-25T06:31:07.871160Z",
     "start_time": "2019-02-25T06:31:07.855530Z"
    }
   },
   "outputs": [
    {
     "data": {
      "text/plain": [
       "FIXED         424\n",
       "WONTFIX        26\n",
       "INVALID        15\n",
       "DUPLICATE      10\n",
       "RETEST          5\n",
       "WORKSFORME      1\n",
       "Name: resolution, dtype: int64"
      ]
     },
     "execution_count": 9,
     "metadata": {},
     "output_type": "execute_result"
    }
   ],
   "source": [
    "data[\"resolution\"].value_counts()"
   ]
  },
  {
   "cell_type": "markdown",
   "metadata": {},
   "source": [
    "82.2%的ticket都会被解决，只有5%的ticket不能解决"
   ]
  },
  {
   "cell_type": "markdown",
   "metadata": {},
   "source": [
    "## 非缺失数据"
   ]
  },
  {
   "cell_type": "code",
   "execution_count": 10,
   "metadata": {
    "ExecuteTime": {
     "end_time": "2019-02-25T06:41:36.916657Z",
     "start_time": "2019-02-25T06:41:36.901033Z"
    }
   },
   "outputs": [
    {
     "data": {
      "text/plain": [
       "RESOLVED    458\n",
       "CLOSED       23\n",
       "ASSIGNED     18\n",
       "NEW          17\n",
       "Name: bug_status, dtype: int64"
      ]
     },
     "execution_count": 10,
     "metadata": {},
     "output_type": "execute_result"
    }
   ],
   "source": [
    "data[\"bug_status\"].value_counts()"
   ]
  },
  {
   "cell_type": "markdown",
   "metadata": {},
   "source": [
    "bug_status字段值中有RESOLVED,CLOSED,ASSIGNED,NEW，新建的bug联想到resolution字段，大致浏览了bug_status字段和resolution字段，发现当bug_status=NEW/ASSIGNED时，对应的resolution就是缺失的。"
   ]
  },
  {
   "cell_type": "code",
   "execution_count": 26,
   "metadata": {
    "ExecuteTime": {
     "end_time": "2019-02-25T07:19:10.152925Z",
     "start_time": "2019-02-25T07:19:10.137289Z"
    }
   },
   "outputs": [
    {
     "data": {
      "text/plain": [
       "ASSIGNED    18\n",
       "NEW         17\n",
       "Name: bug_status, dtype: int64"
      ]
     },
     "execution_count": 26,
     "metadata": {},
     "output_type": "execute_result"
    }
   ],
   "source": [
    "data[\"bug_status\"][data[\"resolution\"].isnull()].value_counts()"
   ]
  },
  {
   "cell_type": "code",
   "execution_count": 32,
   "metadata": {
    "ExecuteTime": {
     "end_time": "2019-02-25T07:36:14.699024Z",
     "start_time": "2019-02-25T07:36:14.683322Z"
    }
   },
   "outputs": [
    {
     "data": {
      "text/plain": [
       "GS_Coach        477\n",
       "---              31\n",
       "Other or N/A      7\n",
       "PRE Triage        1\n",
       "Name: cf_next_action, dtype: int64"
      ]
     },
     "execution_count": 32,
     "metadata": {},
     "output_type": "execute_result"
    }
   ],
   "source": [
    "data[\"cf_next_action\"].value_counts()"
   ]
  },
  {
   "cell_type": "code",
   "execution_count": 33,
   "metadata": {
    "ExecuteTime": {
     "end_time": "2019-02-25T07:37:19.527719Z",
     "start_time": "2019-02-25T07:37:19.512344Z"
    }
   },
   "outputs": [
    {
     "data": {
      "text/plain": [
       "Defect       486\n",
       "---           27\n",
       "Work Item      3\n",
       "Name: cf_bug_type, dtype: int64"
      ]
     },
     "execution_count": 33,
     "metadata": {},
     "output_type": "execute_result"
    }
   ],
   "source": [
    "data[\"cf_bug_type\"].value_counts()"
   ]
  },
  {
   "cell_type": "code",
   "execution_count": 34,
   "metadata": {
    "ExecuteTime": {
     "end_time": "2019-02-25T07:39:56.298270Z",
     "start_time": "2019-02-25T07:39:56.282643Z"
    }
   },
   "outputs": [
    {
     "data": {
      "text/plain": [
       "1                           13\n",
       "All                          7\n",
       "any                          5\n",
       "Any                          4\n",
       "7.2.1.2                      3\n",
       "ALL                          3\n",
       "na                           3\n",
       "n/a                          3\n",
       "B_0                          2\n",
       "7.x.x.x                      2\n",
       "B_7_0_0_0                    2\n",
       "B_MR_8_0_0_4_053             2\n",
       "B_8                          2\n",
       "B_7_1_1                      2\n",
       "8.0                          2\n",
       "B_ALL                        2\n",
       "8.0.0                        2\n",
       "B_MR                         2\n",
       "0                            2\n",
       "B_8_0_0                      2\n",
       "8.0.0.0                      2\n",
       "7.2.1.0                      2\n",
       "B_8_0_0_0                    2\n",
       "B_MR_8_1_0_0                 2\n",
       "1.0                          1\n",
       "B_7_2_0_10                   1\n",
       "7.1.1.0-8.1.1.1              1\n",
       "B_PIPE_DEV_636               1\n",
       "b.8.0.0.0                    1\n",
       "4.5.0.0                      1\n",
       "                            ..\n",
       "NFP_10_0_1_OR_NFP_10_0_2     1\n",
       "B_BR_PIPE_DEV_1123           1\n",
       "B_7_1_1_84                   1\n",
       "7.1.1.2                      1\n",
       "b.8.0.0.037                  1\n",
       "OMG_WHY                      1\n",
       "R8.0.0                       1\n",
       "B_NIIJIMA_DEV_001R           1\n",
       "B_0_0_0_0                    1\n",
       "B_8_1_1_199                  1\n",
       "B_ONEFS                      1\n",
       "UNK                          1\n",
       "B_7_1_0                      1\n",
       "BR_0                         1\n",
       "B_7_1_0_001                  1\n",
       "8.0.0.x                      1\n",
       "B_8_0_0_X                    1\n",
       "8.0.0.1                      1\n",
       "7.x and 8.x                  1\n",
       "7.2.0.3                      1\n",
       "B_FTR_INFINITY_1344          1\n",
       "8.1.0.1                      1\n",
       "B_7_2_0_061                  1\n",
       "br_mr_7_2_1_4                1\n",
       "not-a-bug                    1\n",
       "8.0.0.4                      1\n",
       "7.1, 7.2                     1\n",
       "all                          1\n",
       "7_1_0_0                      1\n",
       "BR_HEAD                      1\n",
       "Name: cf_build_found_in, Length: 101, dtype: int64"
      ]
     },
     "execution_count": 34,
     "metadata": {},
     "output_type": "execute_result"
    }
   ],
   "source": [
    "data[\"cf_build_found_in\"].value_counts()"
   ]
  },
  {
   "cell_type": "markdown",
   "metadata": {},
   "source": [
    "short_desc字段是comments字段提炼后的问题概要："
   ]
  },
  {
   "cell_type": "code",
   "execution_count": 36,
   "metadata": {
    "ExecuteTime": {
     "end_time": "2019-02-25T07:45:24.680142Z",
     "start_time": "2019-02-25T07:45:24.648858Z"
    },
    "scrolled": true
   },
   "outputs": [
    {
     "data": {
      "text/html": [
       "<div>\n",
       "<style>\n",
       "    .dataframe thead tr:only-child th {\n",
       "        text-align: right;\n",
       "    }\n",
       "\n",
       "    .dataframe thead th {\n",
       "        text-align: left;\n",
       "    }\n",
       "\n",
       "    .dataframe tbody tr th {\n",
       "        vertical-align: top;\n",
       "    }\n",
       "</style>\n",
       "<table border=\"1\" class=\"dataframe\">\n",
       "  <thead>\n",
       "    <tr style=\"text-align: right;\">\n",
       "      <th></th>\n",
       "      <th>short_desc</th>\n",
       "      <th>comments</th>\n",
       "    </tr>\n",
       "  </thead>\n",
       "  <tbody>\n",
       "    <tr>\n",
       "      <th>0</th>\n",
       "      <td>Request to check # of customer running event_c...</td>\n",
       "      <td>We are seeing increased impact due to bam.rena...</td>\n",
       "    </tr>\n",
       "    <tr>\n",
       "      <th>1</th>\n",
       "      <td>upgrade - how often is --skip-optional flag used</td>\n",
       "      <td>Upgrade has an option off CLI and WebUI to ski...</td>\n",
       "    </tr>\n",
       "    <tr>\n",
       "      <th>2</th>\n",
       "      <td>Dump of clusters by feature?</td>\n",
       "      <td>For purposes of joining with a DUDL data set, ...</td>\n",
       "    </tr>\n",
       "    <tr>\n",
       "      <th>3</th>\n",
       "      <td>Query for customers with inotify enabled or cy...</td>\n",
       "      <td>Are there any customers on 8.1.1.0 or above th...</td>\n",
       "    </tr>\n",
       "    <tr>\n",
       "      <th>4</th>\n",
       "      <td>Refinements to the RUP/NFP adoption report</td>\n",
       "      <td>From: Arms, Laina \\n\\nSent: Friday, November 1...</td>\n",
       "    </tr>\n",
       "  </tbody>\n",
       "</table>\n",
       "</div>"
      ],
      "text/plain": [
       "                                          short_desc  \\\n",
       "0  Request to check # of customer running event_c...   \n",
       "1   upgrade - how often is --skip-optional flag used   \n",
       "2                       Dump of clusters by feature?   \n",
       "3  Query for customers with inotify enabled or cy...   \n",
       "4         Refinements to the RUP/NFP adoption report   \n",
       "\n",
       "                                            comments  \n",
       "0  We are seeing increased impact due to bam.rena...  \n",
       "1  Upgrade has an option off CLI and WebUI to ski...  \n",
       "2  For purposes of joining with a DUDL data set, ...  \n",
       "3  Are there any customers on 8.1.1.0 or above th...  \n",
       "4  From: Arms, Laina \\n\\nSent: Friday, November 1...  "
      ]
     },
     "execution_count": 36,
     "metadata": {},
     "output_type": "execute_result"
    }
   ],
   "source": [
    "data[[\"short_desc\", \"comments\"]].head()"
   ]
  },
  {
   "cell_type": "code",
   "execution_count": 37,
   "metadata": {
    "ExecuteTime": {
     "end_time": "2019-02-25T07:49:14.733166Z",
     "start_time": "2019-02-25T07:49:14.702184Z"
    }
   },
   "outputs": [
    {
     "data": {
      "text/plain": [
       "Ralph Case                                               134\n",
       "Josh \"DataIQ\" Wisely                                      36\n",
       "Alex \"Oooo Fire\" Lord                                     23\n",
       "Patrick Kane                                              15\n",
       "Lawrence Chiu                                             14\n",
       "Robert Armstrong                                          13\n",
       "Ganesh Prabhu                                             11\n",
       "Wayne Kosters                                              9\n",
       "Jeremy \"--rolling=false\" Johnson                           8\n",
       "Anissa \"Ace\" Mohler                                        8\n",
       "Scott Gentry                                               8\n",
       "Chris Stacey                                               7\n",
       "Joseph \"Antipathy\" Atkinson                                7\n",
       "Alex \"Destroyer of Worlds\" Bahm                            7\n",
       "Brett \"Table of Truth\" Brown                               6\n",
       "Scott \"Seriously?!?\" Humphreys                             6\n",
       "Joshua Weaver                                              5\n",
       "Subodh Bhargava                                            5\n",
       "Choun Sourathathone                                        5\n",
       "Karthik Ramamurthy                                         5\n",
       "Katherine Baker                                            5\n",
       "Steven \"Green Dot\" Danneman                                4\n",
       "Peter \"No Patch For You!\" Jozwiak                          4\n",
       "Robert \"REKT\" Ketcherside                                  4\n",
       "Ethan Madden                                               4\n",
       "Matt Donnelly                                              4\n",
       "Edward Hodapp                                              4\n",
       "Phillip \"The S in IOT stands for Security\" Nordwall        4\n",
       "Tak Luk                                                    4\n",
       "Daniel Chee                                                3\n",
       "                                                        ... \n",
       "Fred Zlotnick                                              1\n",
       "Andrew \"Not your average soda\" Popp                        1\n",
       "Rob Portman                                                1\n",
       "Rachael \"If You See Something, Say Something\" Hardin      1\n",
       "Alok Sontakke                                              1\n",
       "Noel McKinney                                              1\n",
       "Austin \"vim $(which vim) +'%!xxd'\" Voecks                  1\n",
       "William Griffith                                           1\n",
       "David \"Patient Zero\" Geijsbeek                             1\n",
       "Bhavesh Sharma                                             1\n",
       "Ki Anderson                                                1\n",
       "Marc \"That's me in the Corner\" VanHeyningen                1\n",
       "Mark \"Danger\" Ranger                                       1\n",
       "Laura Larson                                               1\n",
       "David Sallak                                               1\n",
       "Carter \"Spoons Down\" Smithhart                             1\n",
       "John Har                                                   1\n",
       "Brendan Leber                                              1\n",
       "Shikhar Mall                                               1\n",
       "Chris Klosterman                                           1\n",
       "Brad \"Blackbeard\" Deputy                                   1\n",
       "Subin Govind                                               1\n",
       "Ron Moore                                                  1\n",
       "Peter Kilner                                               1\n",
       "Ray Ramsden                                                1\n",
       "Logan Mueller                                              1\n",
       "Robert Chang                                               1\n",
       "Amruta Udamale                                             1\n",
       "Oliver \"cojones\" Jones                                     1\n",
       "Rob Simmons                                                1\n",
       "Name: reporter, Length: 125, dtype: int64"
      ]
     },
     "execution_count": 37,
     "metadata": {},
     "output_type": "execute_result"
    }
   ],
   "source": [
    "data[\"reporter\"].value_counts()"
   ]
  },
  {
   "cell_type": "code",
   "execution_count": 38,
   "metadata": {
    "ExecuteTime": {
     "end_time": "2019-02-25T07:54:41.059475Z",
     "start_time": "2019-02-25T07:54:41.043814Z"
    }
   },
   "outputs": [
    {
     "data": {
      "text/plain": [
       "Ralph Case                                                    147\n",
       "Josh \"DataIQ\" Wisely                                           96\n",
       "LIST-eng-dataiq                                                66\n",
       "Max Payton                                                     48\n",
       "Robert Armstrong                                               44\n",
       "Edward Hodapp                                                  29\n",
       "Brooks Kindle                                                  28\n",
       "Ethan Madden                                                   27\n",
       "Alex \"Oooo Fire\" Lord                                          22\n",
       "Ganesh Prabhu                                                   7\n",
       "Guillaume \"Yelp\" Thomas                                         1\n",
       "Shaun \"have you tried turning it off and on again\" Edwards      1\n",
       "Name: assigned_to, dtype: int64"
      ]
     },
     "execution_count": 38,
     "metadata": {},
     "output_type": "execute_result"
    }
   ],
   "source": [
    "data[\"assigned_to\"].value_counts()"
   ]
  }
 ],
 "metadata": {
  "kernelspec": {
   "display_name": "Python 3",
   "language": "python",
   "name": "python3"
  },
  "language_info": {
   "codemirror_mode": {
    "name": "ipython",
    "version": 3
   },
   "file_extension": ".py",
   "mimetype": "text/x-python",
   "name": "python",
   "nbconvert_exporter": "python",
   "pygments_lexer": "ipython3",
   "version": "3.6.2"
  },
  "toc": {
   "base_numbering": 1,
   "nav_menu": {},
   "number_sections": true,
   "sideBar": true,
   "skip_h1_title": false,
   "title_cell": "Table of Contents",
   "title_sidebar": "Contents",
   "toc_cell": false,
   "toc_position": {},
   "toc_section_display": true,
   "toc_window_display": false
  }
 },
 "nbformat": 4,
 "nbformat_minor": 2
}
